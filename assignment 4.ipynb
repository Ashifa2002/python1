{
 "cells": [
  {
   "cell_type": "code",
   "execution_count": null,
   "id": "8f201e4f-7916-416c-aabc-dd4c1d382c27",
   "metadata": {},
   "outputs": [],
   "source": [
    "#lisiting items"
   ]
  },
  {
   "cell_type": "code",
   "execution_count": 7,
   "id": "1ec12dbc-b62c-42db-be84-8dcebbd4a9e5",
   "metadata": {},
   "outputs": [
    {
     "name": "stdout",
     "output_type": "stream",
     "text": [
      "Sub-fields in AI are:\n",
      "Machine Learning\n",
      "Neural Networks\n",
      "Vision\n",
      "Robotics\n",
      "Speech Processing\n",
      "Natural Language Processing\n"
     ]
    }
   ],
   "source": [
    "def subfields():\n",
    "    print(\"Sub-fields in AI are:\")\n",
    "    list=[\"Machine Learning\",\"Neural Networks\",\"Vision\",\"Robotics\",\"Speech Processing\",\"Natural Language Processing\"]\n",
    "    for temp in list:\n",
    "         print(temp)\n",
    "subfields()"
   ]
  },
  {
   "cell_type": "code",
   "execution_count": null,
   "id": "0a1e5cf8-96e0-4880-9d75-95acad581a1c",
   "metadata": {},
   "outputs": [],
   "source": [
    "\n",
    "#odd/even"
   ]
  },
  {
   "cell_type": "code",
   "execution_count": 9,
   "id": "2eba81a5-e7b4-4ac4-bfb6-9d6d627466ef",
   "metadata": {},
   "outputs": [
    {
     "name": "stdin",
     "output_type": "stream",
     "text": [
      "Enter the number: 52452\n"
     ]
    },
    {
     "name": "stdout",
     "output_type": "stream",
     "text": [
      "52452 is Even Number\n"
     ]
    }
   ],
   "source": [
    "def oddeven():\n",
    "    num=int(input(\"Enter the number:\"))\n",
    "    if(num%2==0):\n",
    "        print(num,\"is Even Number\")\n",
    "        msg=\"Even Number\"\n",
    "    else:\n",
    "        print(num,\"is Odd Number\")\n",
    "        msg=\"Odd Number\"\n",
    "    return msg\n",
    "message=oddeven()\n",
    "            "
   ]
  },
  {
   "cell_type": "code",
   "execution_count": null,
   "id": "2d0c6a85-5e59-40b8-add9-d063a545c413",
   "metadata": {},
   "outputs": [],
   "source": [
    "#percentage"
   ]
  },
  {
   "cell_type": "code",
   "execution_count": 30,
   "id": "c317906e-ee57-4401-9e38-c3e473e5c446",
   "metadata": {},
   "outputs": [
    {
     "name": "stdout",
     "output_type": "stream",
     "text": [
      "subject1=98\n",
      "subject2=87\n",
      "subject3=95\n",
      "subject4=95\n",
      "subject5=93\n",
      "Total: 468\n",
      "Percentage: 93.6\n"
     ]
    }
   ],
   "source": [
    "def percentage(sub1,sub2,sub3,sub4,sub5):\n",
    "    print(\"subject1=98\")\n",
    "    print(\"subject2=87\")\n",
    "    print(\"subject3=95\")\n",
    "    print(\"subject4=95\")\n",
    "    print(\"subject5=93\")\n",
    "    total=sub1+sub2+sub3+sub4+sub5\n",
    "    print(\"Total:\",total)\n",
    "    percent=(total/5)\n",
    "    print(\"Percentage:\",percent)\n",
    "percentage(98,87,95,95,93)\n"
   ]
  },
  {
   "cell_type": "code",
   "execution_count": null,
   "id": "0a638009-9067-4f5e-8acd-308aed6c7549",
   "metadata": {},
   "outputs": [],
   "source": []
  },
  {
   "cell_type": "code",
   "execution_count": 34,
   "id": "111c30ee-8117-41d0-8b24-cbd0b577d98d",
   "metadata": {},
   "outputs": [
    {
     "name": "stdin",
     "output_type": "stream",
     "text": [
      "Height= 32\n",
      "Breadth= 34\n"
     ]
    },
    {
     "name": "stdout",
     "output_type": "stream",
     "text": [
      "Area formula=(height*breadth)/2\n",
      "Area of triangle= 544.0\n"
     ]
    },
    {
     "name": "stdin",
     "output_type": "stream",
     "text": [
      "Height1= 2\n",
      "Height2= 4\n",
      "Breadth1= 4\n"
     ]
    },
    {
     "name": "stdout",
     "output_type": "stream",
     "text": [
      "Perimeter formula=Height1+Height2+Breadth1\n",
      "perimeter of triangle= 10\n"
     ]
    }
   ],
   "source": [
    "def triangle():\n",
    "    ht=int(input(\"Height=\"))\n",
    "    bth=int(input(\"Breadth=\"))\n",
    "    area=(ht*bth)/2\n",
    "    print(\"Area formula=(height*breadth)/2\")\n",
    "    print(\"Area of triangle=\",area)\n",
    "    ht1=int(input(\"Height1=\"))\n",
    "    ht2=int(input(\"Height2=\"))\n",
    "    bth1=int(input(\"Breadth1=\"))\n",
    "    perimeter=ht1+ht2+bth1\n",
    "    print(\"Perimeter formula=Height1+Height2+Breadth1\")\n",
    "    print(\"perimeter of triangle=\",perimeter)\n",
    "triangle()\n",
    "\n",
    "    "
   ]
  },
  {
   "cell_type": "code",
   "execution_count": null,
   "id": "dba626c9-e839-4a4f-becf-ff35e79a417d",
   "metadata": {},
   "outputs": [],
   "source": [
    "#eligiblity"
   ]
  },
  {
   "cell_type": "code",
   "execution_count": 39,
   "id": "7f42e056-44a2-4df8-bfdd-eee183fb349c",
   "metadata": {},
   "outputs": [
    {
     "name": "stdin",
     "output_type": "stream",
     "text": [
      "Your Gender= male\n",
      "Your Age= 20\n"
     ]
    },
    {
     "name": "stdout",
     "output_type": "stream",
     "text": [
      "Not Eligible\n"
     ]
    }
   ],
   "source": [
    "def eligiblity():\n",
    "    gender=input(\"Your Gender=\")\n",
    "    age=int(input(\"Your Age=\"))\n",
    "    if(age>=21):\n",
    "        print(\"Eligible\")\n",
    "        msg=\"Eligible\"\n",
    "    else:\n",
    "        print(\"Not Eligible\")\n",
    "        msg=\"Not Eligible\"\n",
    "    return msg\n",
    "message=eligiblity()\n",
    "    \n",
    "\n",
    "        "
   ]
  },
  {
   "cell_type": "code",
   "execution_count": null,
   "id": "f2eb48a0-8434-4fee-8e9e-c92f215b3662",
   "metadata": {},
   "outputs": [],
   "source": []
  }
 ],
 "metadata": {
  "kernelspec": {
   "display_name": "Python 3 (ipykernel)",
   "language": "python",
   "name": "python3"
  },
  "language_info": {
   "codemirror_mode": {
    "name": "ipython",
    "version": 3
   },
   "file_extension": ".py",
   "mimetype": "text/x-python",
   "name": "python",
   "nbconvert_exporter": "python",
   "pygments_lexer": "ipython3",
   "version": "3.12.4"
  }
 },
 "nbformat": 4,
 "nbformat_minor": 5
}
